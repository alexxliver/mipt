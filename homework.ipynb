{
  "nbformat": 4,
  "nbformat_minor": 0,
  "metadata": {
    "colab": {
      "provenance": []
    },
    "kernelspec": {
      "name": "python3",
      "display_name": "Python 3"
    },
    "language_info": {
      "name": "python"
    }
  },
  "cells": [
    {
      "cell_type": "markdown",
      "source": [
        "Задача **№1**"
      ],
      "metadata": {
        "id": "K10NAMXX28-A"
      }
    },
    {
      "cell_type": "code",
      "execution_count": null,
      "metadata": {
        "id": "DQSdLGGh2p12"
      },
      "outputs": [],
      "source": [
        "ids = {'user1': [213, 213, 213, 15, 213],\n",
        "       'user2': [54, 54, 119, 119, 119],\n",
        "       'user3': [213, 98, 98, 35]}"
      ]
    },
    {
      "cell_type": "code",
      "source": [
        "answer = set()\n",
        "for arr in ids.values():\n",
        "    answer.update(arr)\n",
        "answer"
      ],
      "metadata": {
        "id": "lAFycVtG22l8",
        "colab": {
          "base_uri": "https://localhost:8080/"
        },
        "outputId": "71f4089d-ae0c-4078-b4ba-1b2aff53a623"
      },
      "execution_count": null,
      "outputs": [
        {
          "output_type": "execute_result",
          "data": {
            "text/plain": [
              "{15, 35, 54, 98, 119, 213}"
            ]
          },
          "metadata": {},
          "execution_count": 3
        }
      ]
    },
    {
      "cell_type": "markdown",
      "source": [
        "Задача **№2**"
      ],
      "metadata": {
        "id": "pgV6msNo4hLl"
      }
    },
    {
      "cell_type": "code",
      "source": [
        "queries = [\n",
        "    'смотреть сериалы онлайн',\n",
        "    'новости спорта',\n",
        "    'афиша кино',\n",
        "    'курс доллара',\n",
        "    'сериалы этим летом',\n",
        "    'курс по питону',\n",
        "    'сериалы про спорт',\n",
        "]"
      ],
      "metadata": {
        "id": "rV-rdRWu4oOo"
      },
      "execution_count": null,
      "outputs": []
    },
    {
      "cell_type": "code",
      "source": [
        "answer = []\n",
        "for cnt in queries:\n",
        "    answer.append(len(cnt.split()))\n",
        "\n",
        "ans_2 = answer.count(3) / len(answer)\n",
        "ans_1 = answer.count(2) / len(answer)\n",
        "print(f'Поисковых запросов, содержащих 2 слов(а): {ans_1 * 100:.2f}%')\n",
        "print(f'Поисковых запросов, содержащих 3 слов(а): {ans_2 * 100:.2f}%')"
      ],
      "metadata": {
        "colab": {
          "base_uri": "https://localhost:8080/"
        },
        "id": "bi0rcFnF5I87",
        "outputId": "5f7bf6f7-e0d7-4531-94d7-443afbe35778"
      },
      "execution_count": null,
      "outputs": [
        {
          "output_type": "stream",
          "name": "stdout",
          "text": [
            "Поисковых запросов, содержащих 2 слов(а): 42.86%\n",
            "Поисковых запросов, содержащих 3 слов(а): 57.14%\n"
          ]
        }
      ]
    }
  ]
}